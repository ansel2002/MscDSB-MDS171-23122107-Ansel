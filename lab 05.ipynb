{
 "cells": [
  {
   "cell_type": "code",
   "execution_count": 22,
   "metadata": {},
   "outputs": [
    {
     "name": "stdout",
     "output_type": "stream",
     "text": [
      "the vowels are  5\n"
     ]
    }
   ],
   "source": [
    "\n",
    "\n",
    "def vowels(a1):\n",
    "    a1 = input(\"enter some string value \")\n",
    "\n",
    "    vowel = set(\"aeiouAEIOU\")\n",
    "\n",
    "    count = 0\n",
    "\n",
    "    for i in a1:\n",
    "\n",
    "        if i in vowel:\n",
    "\n",
    "            count = count + 1\n",
    "\n",
    "\n",
    "    print(\"the vowels are \", count)\n",
    "\n",
    "\n",
    "vowels(a1)\n",
    "\n",
    "\n"
   ]
  },
  {
   "cell_type": "code",
   "execution_count": 1,
   "metadata": {},
   "outputs": [
    {
     "ename": "TypeError",
     "evalue": "unsupported operand type(s) for /: 'dict' and 'int'",
     "output_type": "error",
     "traceback": [
      "\u001b[1;31m---------------------------------------------------------------------------\u001b[0m",
      "\u001b[1;31mTypeError\u001b[0m                                 Traceback (most recent call last)",
      "\u001b[1;32mc:\\Users\\coolg\\OneDrive\\Desktop\\programming with python\\MscDSB-MDS171-23122107-Ansel\\lab 05.ipynb Cell 2\u001b[0m line \u001b[0;36m2\n\u001b[0;32m     <a href='vscode-notebook-cell:/c%3A/Users/coolg/OneDrive/Desktop/programming%20with%20python/MscDSB-MDS171-23122107-Ansel/lab%2005.ipynb#W1sZmlsZQ%3D%3D?line=24'>25</a>\u001b[0m vowels \u001b[39m=\u001b[39m \u001b[39m'\u001b[39m\u001b[39maeiou\u001b[39m\u001b[39m'\u001b[39m\n\u001b[0;32m     <a href='vscode-notebook-cell:/c%3A/Users/coolg/OneDrive/Desktop/programming%20with%20python/MscDSB-MDS171-23122107-Ansel/lab%2005.ipynb#W1sZmlsZQ%3D%3D?line=25'>26</a>\u001b[0m \u001b[39mstr\u001b[39m\u001b[39m=\u001b[39m \u001b[39minput\u001b[39m(\u001b[39m\"\u001b[39m\u001b[39menter your word\u001b[39m\u001b[39m\"\u001b[39m)\n\u001b[1;32m---> <a href='vscode-notebook-cell:/c%3A/Users/coolg/OneDrive/Desktop/programming%20with%20python/MscDSB-MDS171-23122107-Ansel/lab%2005.ipynb#W1sZmlsZQ%3D%3D?line=26'>27</a>\u001b[0m \u001b[39mprint\u001b[39m (Vow(\u001b[39mstr\u001b[39;49m, vowels))\n",
      "\u001b[1;32mc:\\Users\\coolg\\OneDrive\\Desktop\\programming with python\\MscDSB-MDS171-23122107-Ansel\\lab 05.ipynb Cell 2\u001b[0m line \u001b[0;36m1\n\u001b[0;32m     <a href='vscode-notebook-cell:/c%3A/Users/coolg/OneDrive/Desktop/programming%20with%20python/MscDSB-MDS171-23122107-Ansel/lab%2005.ipynb#W1sZmlsZQ%3D%3D?line=12'>13</a>\u001b[0m \t\u001b[39mif\u001b[39;00m char \u001b[39min\u001b[39;00m count:\n\u001b[0;32m     <a href='vscode-notebook-cell:/c%3A/Users/coolg/OneDrive/Desktop/programming%20with%20python/MscDSB-MDS171-23122107-Ansel/lab%2005.ipynb#W1sZmlsZQ%3D%3D?line=14'>15</a>\u001b[0m \t\tcount[char] \u001b[39m+\u001b[39m\u001b[39m=\u001b[39m \u001b[39m1\u001b[39m\n\u001b[1;32m---> <a href='vscode-notebook-cell:/c%3A/Users/coolg/OneDrive/Desktop/programming%20with%20python/MscDSB-MDS171-23122107-Ansel/lab%2005.ipynb#W1sZmlsZQ%3D%3D?line=16'>17</a>\u001b[0m per \u001b[39m=\u001b[39m (count\u001b[39m/\u001b[39;49m\u001b[39mlen\u001b[39;49m(\u001b[39mstr\u001b[39;49m))\t\n\u001b[0;32m     <a href='vscode-notebook-cell:/c%3A/Users/coolg/OneDrive/Desktop/programming%20with%20python/MscDSB-MDS171-23122107-Ansel/lab%2005.ipynb#W1sZmlsZQ%3D%3D?line=17'>18</a>\u001b[0m \u001b[39mprint\u001b[39m(per)\t\n\u001b[0;32m     <a href='vscode-notebook-cell:/c%3A/Users/coolg/OneDrive/Desktop/programming%20with%20python/MscDSB-MDS171-23122107-Ansel/lab%2005.ipynb#W1sZmlsZQ%3D%3D?line=18'>19</a>\u001b[0m \u001b[39mreturn\u001b[39;00m count\n",
      "\u001b[1;31mTypeError\u001b[0m: unsupported operand type(s) for /: 'dict' and 'int'"
     ]
    }
   ],
   "source": [
    "# Count vowels in a different way\n",
    "# Using dictionary\n",
    "def Vow(str, vowels):\n",
    "\t\n",
    "\t# casefold has been used to ignore cases\n",
    "\t\n",
    "\t\n",
    "\t# formkeys return a dictonary with a specified keys and value\n",
    "\tcount = {}.fromkeys(vowels, 0)\n",
    "\t\n",
    "\t# To count and print the value of the vowels\n",
    "\tfor char in str:\n",
    "\t\tif char in count:\n",
    "\t\n",
    "\t\t\tcount[char] += 1\n",
    "\n",
    "\tper = (count/len(str))\t\n",
    "\t\t\n",
    "\treturn count\n",
    "\n",
    "\n",
    "\n",
    "\t\n",
    "#  Code\n",
    "vowels = 'aeiou'\n",
    "str= input(\"enter your word\")\n",
    "print (Vow(str, vowels))\n",
    "\n"
   ]
  },
  {
   "cell_type": "code",
   "execution_count": null,
   "metadata": {},
   "outputs": [],
   "source": []
  }
 ],
 "metadata": {
  "kernelspec": {
   "display_name": "Python 3",
   "language": "python",
   "name": "python3"
  },
  "language_info": {
   "codemirror_mode": {
    "name": "ipython",
    "version": 3
   },
   "file_extension": ".py",
   "mimetype": "text/x-python",
   "name": "python",
   "nbconvert_exporter": "python",
   "pygments_lexer": "ipython3",
   "version": "3.9.2"
  },
  "orig_nbformat": 4
 },
 "nbformat": 4,
 "nbformat_minor": 2
}
