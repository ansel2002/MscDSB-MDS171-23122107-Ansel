{
 "cells": [
  {
   "cell_type": "code",
   "execution_count": 1,
   "metadata": {},
   "outputs": [],
   "source": [
    "#resturant \n",
    "# customers -> orders (Menu items)\n",
    "#collecting orders\n",
    "#billing \n",
    "#update order\n",
    "#print bill\n",
    "#search for an order\n",
    "\n",
    "import random\n",
    "class resturant:\n",
    "\n",
    "    def __init__(self):\n",
    "        self.menu ={\n",
    "\n",
    "            \"rice\":30,\n",
    "            \"idli\":20,\n",
    "        } \n",
    "        #orderid : {set of order details}\n",
    "        self.orders = {}\n",
    "    def printMenu(self):\n",
    "        print(\"*\"*30)\n",
    "        print (\"the current option in the meny are:\")\n",
    "        print(\"*\"*30)\n",
    "        print(self.menu)\n",
    "        print(\"*\"*30)\n",
    "\n",
    "\n",
    "    def generateOrderid(self):\n",
    "        orderid = \"\"\n",
    "        for i in range(1,6,1):\n",
    "            orderid+=str(random.randint(i,10))\n",
    "              \n",
    "        return orderid      \n",
    "\n",
    "    def collectOrder(self):\n",
    "        self.printMenu()#print menu\n",
    "        phone = input(\"enter Customer Phone number:\")\n",
    "        order = {}\n",
    "        while True:\n",
    "\n",
    "            item = input(\"enter the item name you want to order\")\n",
    "            qty = int(input(\"enter the quantity of the item:\"))\n",
    "            order[item] = qty\n",
    "            choice = input(\"do you want to compelete the order ? 'Y'\")\n",
    "            if choice =='Y':\n",
    "                break\n",
    "        orderid = self.generateOrderid()\n",
    "        self.orders[orderid] ={\n",
    "\n",
    "            \"phone\": phone,\n",
    "            \"order\": order\n",
    "        }\n",
    "        #print menu \n",
    "        # ask users to enter the value\n",
    "        # collect the value and update the order\n",
    "        # print the order\n",
    "        print(self.orders)\n",
    "\n",
    "\n",
    "    def billing(self):\n",
    "        \n",
    "\n",
    "\n",
    "\n",
    "\n",
    "\n",
    "\n",
    "\n",
    "\n",
    "\n",
    "\n",
    "\n",
    "\n",
    "\n",
    "ams =resturant()\n"
   ]
  },
  {
   "cell_type": "code",
   "execution_count": 2,
   "metadata": {},
   "outputs": [
    {
     "name": "stdout",
     "output_type": "stream",
     "text": [
      "******************************\n",
      "the current option in the meny are:\n",
      "******************************\n",
      "{'rice': 30, 'idli': 20}\n",
      "******************************\n"
     ]
    },
    {
     "ename": "ValueError",
     "evalue": "invalid literal for int() with base 10: ''",
     "output_type": "error",
     "traceback": [
      "\u001b[1;31m---------------------------------------------------------------------------\u001b[0m",
      "\u001b[1;31mValueError\u001b[0m                                Traceback (most recent call last)",
      "\u001b[1;32mc:\\Users\\coolg\\OneDrive\\Desktop\\programming with python\\class2.ipynb Cell 2\u001b[0m line \u001b[0;36m1\n\u001b[1;32m----> <a href='vscode-notebook-cell:/c%3A/Users/coolg/OneDrive/Desktop/programming%20with%20python/class2.ipynb#W1sZmlsZQ%3D%3D?line=0'>1</a>\u001b[0m ams\u001b[39m.\u001b[39;49mcollectOrder()\n",
      "\u001b[1;32mc:\\Users\\coolg\\OneDrive\\Desktop\\programming with python\\class2.ipynb Cell 2\u001b[0m line \u001b[0;36m4\n\u001b[0;32m     <a href='vscode-notebook-cell:/c%3A/Users/coolg/OneDrive/Desktop/programming%20with%20python/class2.ipynb#W1sZmlsZQ%3D%3D?line=38'>39</a>\u001b[0m \u001b[39mwhile\u001b[39;00m \u001b[39mTrue\u001b[39;00m:\n\u001b[0;32m     <a href='vscode-notebook-cell:/c%3A/Users/coolg/OneDrive/Desktop/programming%20with%20python/class2.ipynb#W1sZmlsZQ%3D%3D?line=40'>41</a>\u001b[0m     item \u001b[39m=\u001b[39m \u001b[39minput\u001b[39m(\u001b[39m\"\u001b[39m\u001b[39menter the item name you want to order\u001b[39m\u001b[39m\"\u001b[39m)\n\u001b[1;32m---> <a href='vscode-notebook-cell:/c%3A/Users/coolg/OneDrive/Desktop/programming%20with%20python/class2.ipynb#W1sZmlsZQ%3D%3D?line=41'>42</a>\u001b[0m     qty \u001b[39m=\u001b[39m \u001b[39mint\u001b[39;49m(\u001b[39minput\u001b[39;49m(\u001b[39m\"\u001b[39;49m\u001b[39menter the quantity of the item:\u001b[39;49m\u001b[39m\"\u001b[39;49m))\n\u001b[0;32m     <a href='vscode-notebook-cell:/c%3A/Users/coolg/OneDrive/Desktop/programming%20with%20python/class2.ipynb#W1sZmlsZQ%3D%3D?line=42'>43</a>\u001b[0m     order[item] \u001b[39m=\u001b[39m qty\n\u001b[0;32m     <a href='vscode-notebook-cell:/c%3A/Users/coolg/OneDrive/Desktop/programming%20with%20python/class2.ipynb#W1sZmlsZQ%3D%3D?line=43'>44</a>\u001b[0m     choice \u001b[39m=\u001b[39m \u001b[39minput\u001b[39m(\u001b[39m\"\u001b[39m\u001b[39mdo you want to compelete the order ? \u001b[39m\u001b[39m'\u001b[39m\u001b[39mY\u001b[39m\u001b[39m'\u001b[39m\u001b[39m\"\u001b[39m)\n",
      "\u001b[1;31mValueError\u001b[0m: invalid literal for int() with base 10: ''"
     ]
    }
   ],
   "source": [
    "ams.collectOrder()"
   ]
  },
  {
   "cell_type": "code",
   "execution_count": null,
   "metadata": {},
   "outputs": [],
   "source": []
  }
 ],
 "metadata": {
  "kernelspec": {
   "display_name": "Python 3",
   "language": "python",
   "name": "python3"
  },
  "language_info": {
   "codemirror_mode": {
    "name": "ipython",
    "version": 3
   },
   "file_extension": ".py",
   "mimetype": "text/x-python",
   "name": "python",
   "nbconvert_exporter": "python",
   "pygments_lexer": "ipython3",
   "version": "3.9.2"
  },
  "orig_nbformat": 4
 },
 "nbformat": 4,
 "nbformat_minor": 2
}
