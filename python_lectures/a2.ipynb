{
 "cells": [
  {
   "cell_type": "code",
   "execution_count": 11,
   "metadata": {},
   "outputs": [
    {
     "name": "stdout",
     "output_type": "stream",
     "text": [
      "heloo\n"
     ]
    }
   ],
   "source": [
    "print(\"heloo\")"
   ]
  },
  {
   "cell_type": "code",
   "execution_count": null,
   "metadata": {},
   "outputs": [],
   "source": []
  },
  {
   "cell_type": "code",
   "execution_count": 12,
   "metadata": {},
   "outputs": [
    {
     "name": "stdout",
     "output_type": "stream",
     "text": [
      "HELLO\n"
     ]
    }
   ],
   "source": [
    "print ('HELLO')"
   ]
  },
  {
   "cell_type": "code",
   "execution_count": 13,
   "metadata": {},
   "outputs": [
    {
     "data": {
      "text/plain": [
       "str"
      ]
     },
     "execution_count": 13,
     "metadata": {},
     "output_type": "execute_result"
    }
   ],
   "source": [
    "msg = \"msg\"\n",
    "type(msg)"
   ]
  },
  {
   "cell_type": "code",
   "execution_count": 5,
   "metadata": {},
   "outputs": [
    {
     "data": {
      "text/plain": [
       "float"
      ]
     },
     "execution_count": 5,
     "metadata": {},
     "output_type": "execute_result"
    }
   ],
   "source": [
    "msg = 10.25\n",
    "type(msg)"
   ]
  },
  {
   "cell_type": "code",
   "execution_count": 6,
   "metadata": {},
   "outputs": [
    {
     "data": {
      "text/plain": [
       "''"
      ]
     },
     "execution_count": 6,
     "metadata": {},
     "output_type": "execute_result"
    }
   ],
   "source": [
    "input(\"enter a number\")"
   ]
  },
  {
   "cell_type": "code",
   "execution_count": 7,
   "metadata": {},
   "outputs": [
    {
     "data": {
      "text/plain": [
       "2"
      ]
     },
     "execution_count": 7,
     "metadata": {},
     "output_type": "execute_result"
    }
   ],
   "source": [
    "2"
   ]
  },
  {
   "cell_type": "code",
   "execution_count": 8,
   "metadata": {},
   "outputs": [],
   "source": [
    "a = input(\"Enter a number\")"
   ]
  },
  {
   "cell_type": "code",
   "execution_count": 9,
   "metadata": {},
   "outputs": [
    {
     "data": {
      "text/plain": [
       "5"
      ]
     },
     "execution_count": 9,
     "metadata": {},
     "output_type": "execute_result"
    }
   ],
   "source": [
    "5"
   ]
  },
  {
   "cell_type": "code",
   "execution_count": 10,
   "metadata": {},
   "outputs": [
    {
     "data": {
      "text/plain": [
       "str"
      ]
     },
     "execution_count": 10,
     "metadata": {},
     "output_type": "execute_result"
    }
   ],
   "source": [
    "type(a)"
   ]
  },
  {
   "cell_type": "code",
   "execution_count": 14,
   "metadata": {},
   "outputs": [],
   "source": [
    "b = input(\"enter a name\")"
   ]
  },
  {
   "cell_type": "code",
   "execution_count": 15,
   "metadata": {},
   "outputs": [
    {
     "name": "stdout",
     "output_type": "stream",
     "text": [
      "8ansel\n"
     ]
    }
   ],
   "source": [
    "print(a+b)"
   ]
  },
  {
   "cell_type": "code",
   "execution_count": 16,
   "metadata": {},
   "outputs": [
    {
     "name": "stdout",
     "output_type": "stream",
     "text": [
      "8ansel\n"
     ]
    }
   ],
   "source": [
    "print (a + b )"
   ]
  },
  {
   "cell_type": "code",
   "execution_count": 20,
   "metadata": {},
   "outputs": [],
   "source": [
    "a = input(\"enter a number\")\n",
    "a = int(a)"
   ]
  },
  {
   "cell_type": "code",
   "execution_count": 23,
   "metadata": {},
   "outputs": [
    {
     "name": "stdout",
     "output_type": "stream",
     "text": [
      "the value of  a is 5 \n"
     ]
    }
   ],
   "source": [
    "\n",
    "a = 5\n",
    "if a == 5 :{\n",
    "\n",
    "    print(\"the value of  a is 5 \")\n",
    "}\n",
    "    \n"
   ]
  },
  {
   "cell_type": "code",
   "execution_count": 25,
   "metadata": {},
   "outputs": [
    {
     "name": "stdout",
     "output_type": "stream",
     "text": [
      "the value of a is 8 \n"
     ]
    }
   ],
   "source": [
    "\n",
    "a = 8\n",
    "if a == 5 :{\n",
    "\n",
    "    print(\"the value of  a is 5 \")\n",
    "}\n",
    "else:\n",
    "\n",
    "    print(\"the value of a is 8 \")\n",
    "   "
   ]
  },
  {
   "cell_type": "code",
   "execution_count": null,
   "metadata": {},
   "outputs": [],
   "source": []
  },
  {
   "cell_type": "code",
   "execution_count": 34,
   "metadata": {},
   "outputs": [
    {
     "name": "stdout",
     "output_type": "stream",
     "text": [
      "5 is less than  8\n"
     ]
    }
   ],
   "source": [
    "a = input(\"enter a number\")\n",
    "b = input(\"enter a number\")\n",
    "\n",
    "if a>b:{\n",
    "\n",
    "    print(a +\" \"+ \"is greater than\" +\" \" + b)\n",
    "}\n",
    "\n",
    "else:{\n",
    "\n",
    "    print(a +\" \"+ \"is less than \" +\" \"+ b)\n",
    "}"
   ]
  },
  {
   "cell_type": "code",
   "execution_count": 4,
   "metadata": {},
   "outputs": [
    {
     "name": "stdout",
     "output_type": "stream",
     "text": [
      "thursday\n"
     ]
    }
   ],
   "source": [
    "#based on the user input, print the corresponding day of the week if 1=sunday, if 2= monday.....\n",
    "\n",
    "\n",
    "a = int(input(\"enter a number \"))\n",
    "\n",
    "if a==1:\n",
    "\n",
    "    print(\"sunday\")\n",
    "\n",
    "\n",
    "    \n",
    "elif a==2:\n",
    "\n",
    "  print(\"monday\")\n",
    "\n",
    "elif a==3:\n",
    "\n",
    "  print(\"tuesday\")\n",
    "\n",
    "elif a==4:\n",
    "\n",
    "  print(\"wednesday\")\n",
    "\n",
    "elif a==5:\n",
    "\n",
    "  print(\"thursday\")\n",
    "\n",
    "elif a==6:\n",
    "\n",
    "  print(\"friday\")\n",
    "\n",
    "elif a==7:\n",
    "\n",
    "  print(\"saturday\")\n",
    "\n",
    "\n",
    "else:\n",
    "\n",
    "  print(\"enter a valid number\") \n",
    "\n",
    "  \n",
    "          \n",
    "\n",
    "\n",
    "         "
   ]
  },
  {
   "cell_type": "code",
   "execution_count": 6,
   "metadata": {},
   "outputs": [
    {
     "name": "stdout",
     "output_type": "stream",
     "text": [
      "5\n",
      "12\n"
     ]
    }
   ],
   "source": [
    "\n",
    "msg = \"ansel\"\n",
    "\n",
    "print(len(msg))\n",
    "print(len(\"alwin joseph\"))"
   ]
  },
  {
   "cell_type": "code",
   "execution_count": 7,
   "metadata": {},
   "outputs": [
    {
     "name": "stdout",
     "output_type": "stream",
     "text": [
      "a\n",
      "n\n",
      "s\n",
      "e\n",
      "l\n"
     ]
    }
   ],
   "source": [
    "for i in msg:\n",
    "    print(i)"
   ]
  },
  {
   "cell_type": "code",
   "execution_count": 8,
   "metadata": {},
   "outputs": [
    {
     "data": {
      "text/plain": [
       "'ANSEL'"
      ]
     },
     "execution_count": 8,
     "metadata": {},
     "output_type": "execute_result"
    }
   ],
   "source": [
    "msg.upper()"
   ]
  },
  {
   "cell_type": "code",
   "execution_count": 9,
   "metadata": {},
   "outputs": [
    {
     "data": {
      "text/plain": [
       "'ansel'"
      ]
     },
     "execution_count": 9,
     "metadata": {},
     "output_type": "execute_result"
    }
   ],
   "source": [
    "msg.lower()\n"
   ]
  },
  {
   "cell_type": "code",
   "execution_count": 10,
   "metadata": {},
   "outputs": [
    {
     "name": "stdout",
     "output_type": "stream",
     "text": [
      "<class 'str'>\n"
     ]
    }
   ],
   "source": [
    "name = \"              abc   \"\n",
    "print(type(name))\n"
   ]
  },
  {
   "cell_type": "code",
   "execution_count": 11,
   "metadata": {},
   "outputs": [
    {
     "name": "stdout",
     "output_type": "stream",
     "text": [
      "20\n",
      "3\n"
     ]
    }
   ],
   "source": [
    "print(len(name))\n",
    "print(len(name.strip()))"
   ]
  },
  {
   "cell_type": "code",
   "execution_count": 12,
   "metadata": {},
   "outputs": [
    {
     "name": "stdout",
     "output_type": "stream",
     "text": [
      "['2', '8', '2', '3', '8', '']\n"
     ]
    }
   ],
   "source": [
    "numbers = '2,8,2,3,8,'\n",
    "print(numbers.split(','))"
   ]
  },
  {
   "cell_type": "code",
   "execution_count": 13,
   "metadata": {},
   "outputs": [
    {
     "name": "stdout",
     "output_type": "stream",
     "text": [
      "2\n",
      "8\n",
      "2\n",
      "3\n",
      "8\n",
      "\n"
     ]
    }
   ],
   "source": [
    "numbers = '2,8,2,3,8,'\n",
    "nos = numbers.split(',')\n",
    "for item in nos:\n",
    "    print(item)\n",
    "    \n"
   ]
  },
  {
   "cell_type": "code",
   "execution_count": 15,
   "metadata": {},
   "outputs": [
    {
     "name": "stdout",
     "output_type": "stream",
     "text": [
      "['2', '8', '2', '3', '8', '']\n",
      "2 <class 'str'> 2 <class 'int'>\n",
      "8 <class 'str'> 8 <class 'int'>\n",
      "2 <class 'str'> 2 <class 'int'>\n",
      "3 <class 'str'> 3 <class 'int'>\n",
      "8 <class 'str'> 8 <class 'int'>\n"
     ]
    },
    {
     "ename": "ValueError",
     "evalue": "invalid literal for int() with base 10: ''",
     "output_type": "error",
     "traceback": [
      "\u001b[1;31m---------------------------------------------------------------------------\u001b[0m",
      "\u001b[1;31mValueError\u001b[0m                                Traceback (most recent call last)",
      "Cell \u001b[1;32mIn[15], line 5\u001b[0m\n\u001b[0;32m      3\u001b[0m \u001b[39mprint\u001b[39m(nos)\n\u001b[0;32m      4\u001b[0m \u001b[39mfor\u001b[39;00m item \u001b[39min\u001b[39;00m nos:\n\u001b[1;32m----> 5\u001b[0m      temp \u001b[39m=\u001b[39m \u001b[39mint\u001b[39;49m(item)\n\u001b[0;32m      6\u001b[0m      \u001b[39mprint\u001b[39m(item,\u001b[39mtype\u001b[39m(item),temp,\u001b[39mtype\u001b[39m(temp))\n",
      "\u001b[1;31mValueError\u001b[0m: invalid literal for int() with base 10: ''"
     ]
    }
   ],
   "source": [
    "numbers = '2,8,2,3,8,'\n",
    "nos = numbers.split(',')\n",
    "print(nos)\n",
    "for item in nos:\n",
    "     temp = int(item)\n",
    "     print(item,type(item),temp,type(temp))\n",
    "    "
   ]
  },
  {
   "cell_type": "code",
   "execution_count": 17,
   "metadata": {},
   "outputs": [
    {
     "name": "stdout",
     "output_type": "stream",
     "text": [
      "['2', '8', '2', '3', '8', '9']\n",
      "2 <class 'str'> 2 <class 'int'>\n",
      "8 <class 'str'> 8 <class 'int'>\n",
      "2 <class 'str'> 2 <class 'int'>\n",
      "3 <class 'str'> 3 <class 'int'>\n",
      "8 <class 'str'> 8 <class 'int'>\n",
      "9 <class 'str'> 9 <class 'int'>\n",
      "32\n"
     ]
    }
   ],
   "source": [
    "numbers = '2,8,2,3,8,9'\n",
    "nos = numbers.split(',')\n",
    "print(nos)\n",
    "sum = 0\n",
    "for item in nos:\n",
    "    temp = int(item)\n",
    "    sum = sum + temp\n",
    "    print(item,type(item),temp,type(temp))\n",
    "print(sum)\n",
    "    "
   ]
  },
  {
   "cell_type": "code",
   "execution_count": 20,
   "metadata": {},
   "outputs": [
    {
     "name": "stdout",
     "output_type": "stream",
     "text": [
      "your username: ansel and password entered is:paul\n"
     ]
    }
   ],
   "source": [
    "name = input(\"enter username:\")\n",
    "password = input(\"enter a password\")\n",
    "\n",
    "print(\"your username: {} and password entered is:{}\".format(name,password))"
   ]
  },
  {
   "cell_type": "code",
   "execution_count": 1,
   "metadata": {},
   "outputs": [
    {
     "name": "stdout",
     "output_type": "stream",
     "text": [
      "['one', 'two', 'three', 'four']\n"
     ]
    }
   ],
   "source": [
    "listex = [\"one\",\"two\",\"three\",\"four\"]\n",
    "print(listex)\n"
   ]
  },
  {
   "cell_type": "code",
   "execution_count": 2,
   "metadata": {},
   "outputs": [
    {
     "name": "stdout",
     "output_type": "stream",
     "text": [
      "four\n"
     ]
    }
   ],
   "source": [
    "print(listex[3])"
   ]
  },
  {
   "cell_type": "code",
   "execution_count": 3,
   "metadata": {},
   "outputs": [
    {
     "name": "stdout",
     "output_type": "stream",
     "text": [
      "succcess\n"
     ]
    }
   ],
   "source": [
    "if \"three\" in listex:\n",
    "    print(\"succcess\")"
   ]
  },
  {
   "cell_type": "code",
   "execution_count": 8,
   "metadata": {},
   "outputs": [],
   "source": [
    "listex.append(\"five\")"
   ]
  },
  {
   "cell_type": "code",
   "execution_count": 9,
   "metadata": {},
   "outputs": [
    {
     "name": "stdout",
     "output_type": "stream",
     "text": [
      "['one', 'two', 'three', 'four', 'five', 'five', 'five']\n"
     ]
    }
   ],
   "source": [
    "print(listex)"
   ]
  },
  {
   "cell_type": "code",
   "execution_count": 15,
   "metadata": {},
   "outputs": [
    {
     "data": {
      "text/plain": [
       "'five'"
      ]
     },
     "execution_count": 15,
     "metadata": {},
     "output_type": "execute_result"
    }
   ],
   "source": [
    "listex.pop()"
   ]
  },
  {
   "cell_type": "code",
   "execution_count": 16,
   "metadata": {},
   "outputs": [
    {
     "data": {
      "text/plain": [
       "['one', 'two', 'three', 'four']"
      ]
     },
     "execution_count": 16,
     "metadata": {},
     "output_type": "execute_result"
    }
   ],
   "source": [
    "listex"
   ]
  },
  {
   "cell_type": "code",
   "execution_count": 17,
   "metadata": {},
   "outputs": [
    {
     "data": {
      "text/plain": [
       "'four'"
      ]
     },
     "execution_count": 17,
     "metadata": {},
     "output_type": "execute_result"
    }
   ],
   "source": [
    "listex.pop(3)"
   ]
  },
  {
   "cell_type": "code",
   "execution_count": 18,
   "metadata": {},
   "outputs": [
    {
     "data": {
      "text/plain": [
       "['one', 'two', 'three']"
      ]
     },
     "execution_count": 18,
     "metadata": {},
     "output_type": "execute_result"
    }
   ],
   "source": [
    "listex"
   ]
  },
  {
   "cell_type": "code",
   "execution_count": 20,
   "metadata": {},
   "outputs": [],
   "source": [
    "listex.remove(\"one\")"
   ]
  },
  {
   "cell_type": "code",
   "execution_count": 21,
   "metadata": {},
   "outputs": [
    {
     "data": {
      "text/plain": [
       "['two', 'three']"
      ]
     },
     "execution_count": 21,
     "metadata": {},
     "output_type": "execute_result"
    }
   ],
   "source": [
    "listex"
   ]
  },
  {
   "cell_type": "code",
   "execution_count": 23,
   "metadata": {},
   "outputs": [
    {
     "data": {
      "text/plain": [
       "2"
      ]
     },
     "execution_count": 23,
     "metadata": {},
     "output_type": "execute_result"
    }
   ],
   "source": [
    "len(listex)"
   ]
  },
  {
   "cell_type": "code",
   "execution_count": 24,
   "metadata": {},
   "outputs": [],
   "source": [
    "listex.sort()"
   ]
  },
  {
   "cell_type": "code",
   "execution_count": 25,
   "metadata": {},
   "outputs": [
    {
     "data": {
      "text/plain": [
       "['three', 'two']"
      ]
     },
     "execution_count": 25,
     "metadata": {},
     "output_type": "execute_result"
    }
   ],
   "source": [
    "listex"
   ]
  },
  {
   "cell_type": "code",
   "execution_count": 26,
   "metadata": {},
   "outputs": [],
   "source": [
    "def fname():\n",
    "    print(\"i am your first function.....\")\n",
    "\n",
    "    "
   ]
  },
  {
   "cell_type": "code",
   "execution_count": 27,
   "metadata": {},
   "outputs": [
    {
     "name": "stdout",
     "output_type": "stream",
     "text": [
      "i am your first function.....\n"
     ]
    }
   ],
   "source": [
    "fname()"
   ]
  },
  {
   "cell_type": "code",
   "execution_count": 28,
   "metadata": {},
   "outputs": [],
   "source": [
    "\n",
    "x = 2\n",
    "y = 3\n",
    "\n",
    "def fname2():\n",
    "\n",
    "    return x + y\n",
    "\n",
    "\n",
    "    "
   ]
  },
  {
   "cell_type": "code",
   "execution_count": 29,
   "metadata": {},
   "outputs": [
    {
     "data": {
      "text/plain": [
       "5"
      ]
     },
     "execution_count": 29,
     "metadata": {},
     "output_type": "execute_result"
    }
   ],
   "source": [
    "fname2()"
   ]
  },
  {
   "cell_type": "code",
   "execution_count": 22,
   "metadata": {},
   "outputs": [
    {
     "data": {
      "text/plain": [
       "30"
      ]
     },
     "execution_count": 22,
     "metadata": {},
     "output_type": "execute_result"
    }
   ],
   "source": [
    "# define a function that takes in a list of numbers and return the sum of numbers without any predefined function\n",
    "\n",
    "l =[2,5,8,5,10]\n",
    "\n",
    "\n",
    "def listex():\n",
    "\n",
    "    \n",
    "    return sum(l)\n",
    "\n",
    "listex()\n",
    "\n",
    "    \n"
   ]
  },
  {
   "cell_type": "code",
   "execution_count": 25,
   "metadata": {},
   "outputs": [
    {
     "data": {
      "text/plain": [
       "19"
      ]
     },
     "execution_count": 25,
     "metadata": {},
     "output_type": "execute_result"
    }
   ],
   "source": [
    "def sumlist(lst):\n",
    "\n",
    "     sum = 0\n",
    "     for item in lst:\n",
    "          sum = sum+item\n",
    "     return sum\n",
    "    \n",
    "\n",
    "sumlist([2,5,6,2,4])\n"
   ]
  },
  {
   "cell_type": "markdown",
   "metadata": {},
   "source": []
  },
  {
   "cell_type": "code",
   "execution_count": 1,
   "metadata": {},
   "outputs": [
    {
     "name": "stdout",
     "output_type": "stream",
     "text": [
      "sum:  5\n"
     ]
    }
   ],
   "source": [
    "def sumlist(lst):\n",
    "\n",
    "     sum = 0\n",
    "     for item in lst:\n",
    "          sum +=int(item)\n",
    "     return sum\n",
    "    \n",
    "\n",
    "\n",
    "\n"
   ]
  },
  {
   "cell_type": "code",
   "execution_count": null,
   "metadata": {},
   "outputs": [],
   "source": [
    "#  count the number odd and even numbers in the list and print the odd numbers count and even numbers count along with the numbers . \n",
    "#  you will have a function that will take list of numbers, then  returns the count of odd numbers and even numbers and the new list \n",
    "#  of odd numbers and even numbers \n",
    "\n",
    "\n",
    "#def odd_even(ls):\n",
    "    "
   ]
  },
  {
   "cell_type": "code",
   "execution_count": 3,
   "metadata": {},
   "outputs": [
    {
     "name": "stdout",
     "output_type": "stream",
     "text": [
      "eight nine\n"
     ]
    }
   ],
   "source": [
    "a =\"eight \"\n",
    "\n",
    "b= \"nine\"\n",
    "\n",
    "\n",
    "c=a+b\n",
    "print (c)"
   ]
  },
  {
   "cell_type": "code",
   "execution_count": 10,
   "metadata": {},
   "outputs": [
    {
     "data": {
      "text/plain": [
       "16"
      ]
     },
     "execution_count": 10,
     "metadata": {},
     "output_type": "execute_result"
    }
   ],
   "source": [
    "#file handling\n",
    "\n",
    "file = open(\"sample text\",\"w+\")\n",
    "\n",
    "file.write(\"this is my time\\n\")\n"
   ]
  },
  {
   "cell_type": "code",
   "execution_count": 5,
   "metadata": {},
   "outputs": [],
   "source": [
    "file.close()"
   ]
  },
  {
   "cell_type": "code",
   "execution_count": 11,
   "metadata": {},
   "outputs": [
    {
     "data": {
      "text/plain": [
       "['this is my time ']"
      ]
     },
     "execution_count": 11,
     "metadata": {},
     "output_type": "execute_result"
    }
   ],
   "source": [
    "file.readlines()"
   ]
  },
  {
   "cell_type": "code",
   "execution_count": 1,
   "metadata": {},
   "outputs": [],
   "source": [
    "#write a function in python that accepts your details and save it into file with your name \n",
    "\n",
    "\n",
    "def name():\n",
    "\n",
    "  a = input(\"write your name\")\n",
    "  b = input(\"enter your info\")\n",
    "  file = open(a,\"w+\")\n",
    "  file.write(b)\n",
    "\n",
    "name()  \n",
    "\n"
   ]
  },
  {
   "cell_type": "code",
   "execution_count": 3,
   "metadata": {},
   "outputs": [],
   "source": [
    "def saveDetails(name,email,phone):\n",
    "    filename = name +\".txt\"\n",
    "    with open(\"filename.text\",\"w+\") as file:\n",
    "        file.write(\"name\\t:\\t\" + name)\n",
    "        file.write(\"\\nemail\\t:\\t\" + email)\n",
    "        file.write(\"\\nPhone\\t:\\t\" + phone)\n",
    "user_name = input(\"enter your name\")\n",
    "user_email=input('Enter Email')\n",
    "user_number=input('Enter Phone Number')\n",
    "saveDetails(user_name , user_email  , user_number )\n"
   ]
  },
  {
   "cell_type": "markdown",
   "metadata": {},
   "source": [
    "write a python program that wil take two operands and an operator and performs the calcualtion and gives the result. also save the calculations that your program performs in a file."
   ]
  },
  {
   "cell_type": "code",
   "execution_count": 1,
   "metadata": {},
   "outputs": [],
   "source": [
    "#####"
   ]
  },
  {
   "cell_type": "code",
   "execution_count": 2,
   "metadata": {},
   "outputs": [
    {
     "name": "stdout",
     "output_type": "stream",
     "text": [
      "0 0\n",
      "1 1\n",
      "2 4\n",
      "3 9\n",
      "4 16\n",
      "5 25\n",
      "6 36\n"
     ]
    }
   ],
   "source": [
    "a = 0\n",
    "while  a < 7:\n",
    "    res = a*a\n",
    "    print(a,res)\n",
    "    a = a+1\n"
   ]
  },
  {
   "cell_type": "code",
   "execution_count": 3,
   "metadata": {},
   "outputs": [
    {
     "name": "stdout",
     "output_type": "stream",
     "text": [
      "1\n",
      "2\n",
      "3\n",
      "4\n",
      "5\n",
      "6\n"
     ]
    }
   ],
   "source": [
    "#breal, continue\n",
    "\n",
    "for i in range(1,10,1):\n",
    "    if  i == 7:\n",
    "        break\n",
    "    print(i)"
   ]
  },
  {
   "cell_type": "code",
   "execution_count": 4,
   "metadata": {},
   "outputs": [
    {
     "name": "stdout",
     "output_type": "stream",
     "text": [
      "1\n",
      "2\n",
      "3\n",
      "4\n",
      "5\n",
      "6\n",
      "8\n",
      "9\n"
     ]
    }
   ],
   "source": [
    "for i in range(1,10,1):\n",
    "    if  i == 7:\n",
    "        continue\n",
    "    print(i)"
   ]
  },
  {
   "cell_type": "code",
   "execution_count": 5,
   "metadata": {},
   "outputs": [
    {
     "name": "stdout",
     "output_type": "stream",
     "text": [
      "['ABC', 'ABC', 'CDF', 'ABC', 'EFD', 'BCD', 'NBG']\n",
      "{'CDF', 'EFD', 'NBG', 'ABC', 'BCD'}\n"
     ]
    }
   ],
   "source": [
    "list_ex = [\"ABC\",\"ABC\",\"CDF\",\"ABC\",\"EFD\",\"BCD\",\"NBG\"]\n",
    "set_ex = set(list_ex)\n",
    "print(list_ex)\n",
    "print(set_ex)"
   ]
  },
  {
   "cell_type": "code",
   "execution_count": 6,
   "metadata": {},
   "outputs": [
    {
     "name": "stdout",
     "output_type": "stream",
     "text": [
      "['ABC', 'ABC', 'CDF', 'ABC', 'EFD', 'BCD', 'NBG']\n",
      "{'CDF', 'EFD', 'NBG', 'ABC', 'BCD'}\n",
      "['CDF', 'EFD', 'NBG', 'ABC', 'BCD']\n",
      "<class 'list'>\n",
      "<class 'set'>\n",
      "<class 'list'>\n"
     ]
    }
   ],
   "source": [
    "list_ex = [\"ABC\",\"ABC\",\"CDF\",\"ABC\",\"EFD\",\"BCD\",\"NBG\"]\n",
    "set_ex = set(list_ex)\n",
    "back = list(set_ex)\n",
    "print(list_ex)\n",
    "print(set_ex)\n",
    "print(back)\n",
    "print(type(list_ex))\n",
    "print(type(set_ex))\n",
    "print(type(back))"
   ]
  },
  {
   "cell_type": "code",
   "execution_count": 11,
   "metadata": {},
   "outputs": [
    {
     "name": "stdout",
     "output_type": "stream",
     "text": [
      "ANSEL\n",
      "{'HER', 'SAM', 'ANSEL', 'JOHN', 'GEORGW', 'HIM'}\n"
     ]
    }
   ],
   "source": [
    "#create a list of name that are random and repeating identify the unique items and thier count\n",
    "\n",
    "list1 = []\n",
    "\n",
    "\n",
    "\n",
    "for i in range(0,10):\n",
    "\n",
    "    b = input(\"enter your name\")\n",
    "    b = b.strip()\n",
    "    b = b.upper()\n",
    "\n",
    "    list1.append(b)\n",
    "\n",
    "unique_names = set(list1)\n",
    "\n",
    "for search in unique_names:\n",
    "    count = 0\n",
    "    for item in list1:\n",
    "        if search == item:\n",
    "            count = count + 1\n",
    "    print(search,count)\n",
    "\n"
   ]
  },
  {
   "cell_type": "code",
   "execution_count": 1,
   "metadata": {},
   "outputs": [],
   "source": [
    "my_dict = {\n",
    "      \n",
    "        \"name\" : \"ansel paul\",\n",
    "        \"phone\" : 25415254212,\n",
    "        \"email\" : \"anselpaul@gmail.com\",\n",
    "}"
   ]
  },
  {
   "cell_type": "code",
   "execution_count": 4,
   "metadata": {},
   "outputs": [
    {
     "name": "stdout",
     "output_type": "stream",
     "text": [
      "ansel paul\n"
     ]
    }
   ],
   "source": [
    "print(my_dict[\"name\"])"
   ]
  },
  {
   "cell_type": "code",
   "execution_count": 7,
   "metadata": {},
   "outputs": [],
   "source": [
    "my_dict[\"name\"] = \"sam\""
   ]
  },
  {
   "cell_type": "code",
   "execution_count": 8,
   "metadata": {},
   "outputs": [
    {
     "name": "stdout",
     "output_type": "stream",
     "text": [
      "{'name': 'sam', 'phone': 25415254212, 'email': 'anselpaul@gmail.com', 'Name': 'sam'}\n"
     ]
    }
   ],
   "source": [
    "print(my_dict)"
   ]
  },
  {
   "cell_type": "code",
   "execution_count": 10,
   "metadata": {},
   "outputs": [
    {
     "name": "stdout",
     "output_type": "stream",
     "text": [
      "john\n"
     ]
    }
   ],
   "source": [
    "student = {\n",
    "     \"Names\" : [\"alwin\",\"ansel\",\"john\",\"GEORGE\"],\n",
    "     \"roll numbers\" : [1,2,3,4],\n",
    "}\n",
    "\n",
    "#for names in student[\"Names\"]:\n",
    " #   print(names)\n",
    "\n",
    "print(student[\"Names\"][2])\n",
    "    "
   ]
  },
  {
   "cell_type": "code",
   "execution_count": 15,
   "metadata": {},
   "outputs": [],
   "source": [
    "mscdsb = [\n",
    "    {\n",
    "\n",
    "     \"roll number\":1121210,\n",
    "     \"name\": \"ansel\",\n",
    "     \"email\": \"ansel@gmail.com\",\n",
    " },\n",
    "\n",
    "  {\n",
    "      \n",
    "    \"roll number\":2641155,\n",
    "     \"name\": \"sam\",\n",
    "     \"email\": \"sam@gmail.com\",\n",
    "\n",
    "      \n",
    "  }\n",
    " \n",
    " ]\n"
   ]
  },
  {
   "cell_type": "code",
   "execution_count": 17,
   "metadata": {},
   "outputs": [
    {
     "name": "stdout",
     "output_type": "stream",
     "text": [
      "{'roll number': 1121210, 'name': 'ansel', 'email': 'ansel@gmail.com'}\n",
      "1121210\tansel\tansel@gmail.com\t\n",
      "{'roll number': 2641155, 'name': 'sam', 'email': 'sam@gmail.com'}\n",
      "2641155\tsam\tsam@gmail.com\t\n"
     ]
    }
   ],
   "source": [
    "for student in mscdsb:\n",
    "    print(student)\n",
    "    for key in student.keys():\n",
    "        print(student[key],end=\"\\t\")\n",
    "    print()    \n",
    "    "
   ]
  },
  {
   "cell_type": "code",
   "execution_count": 1,
   "metadata": {},
   "outputs": [
    {
     "ename": "NameError",
     "evalue": "name 'student' is not defined",
     "output_type": "error",
     "traceback": [
      "\u001b[1;31m---------------------------------------------------------------------------\u001b[0m",
      "\u001b[1;31mNameError\u001b[0m                                 Traceback (most recent call last)",
      "\u001b[1;32mc:\\Users\\coolg\\OneDrive\\Desktop\\programming with python\\a2.ipynb Cell 75\u001b[0m line \u001b[0;36m1\n\u001b[1;32m----> <a href='vscode-notebook-cell:/c%3A/Users/coolg/OneDrive/Desktop/programming%20with%20python/a2.ipynb#Y134sZmlsZQ%3D%3D?line=0'>1</a>\u001b[0m \u001b[39mfor\u001b[39;00m val \u001b[39min\u001b[39;00m student\u001b[39m.\u001b[39mvalues():\n\u001b[0;32m      <a href='vscode-notebook-cell:/c%3A/Users/coolg/OneDrive/Desktop/programming%20with%20python/a2.ipynb#Y134sZmlsZQ%3D%3D?line=1'>2</a>\u001b[0m     \u001b[39mprint\u001b[39m(student[val],end\u001b[39m=\u001b[39m\u001b[39m\"\u001b[39m\u001b[39m\\t\u001b[39;00m\u001b[39m\"\u001b[39m)\n",
      "\u001b[1;31mNameError\u001b[0m: name 'student' is not defined"
     ]
    }
   ],
   "source": [
    "for val in student.values():\n",
    "    print(student[val],end=\"\\t\")"
   ]
  },
  {
   "cell_type": "code",
   "execution_count": 6,
   "metadata": {},
   "outputs": [
    {
     "name": "stdout",
     "output_type": "stream",
     "text": [
      "Menu options\n",
      "******************************\n",
      "1, Enter a Name\n",
      "2,search a Name\n",
      "3,list all Name\n",
      "4,Exit\n"
     ]
    },
    {
     "ename": "ValueError",
     "evalue": "invalid literal for int() with base 10: 'ansel'",
     "output_type": "error",
     "traceback": [
      "\u001b[1;31m---------------------------------------------------------------------------\u001b[0m",
      "\u001b[1;31mValueError\u001b[0m                                Traceback (most recent call last)",
      "\u001b[1;32mc:\\Users\\coolg\\OneDrive\\Desktop\\programming with python\\a2.ipynb Cell 76\u001b[0m line \u001b[0;36m4\n\u001b[0;32m     <a href='vscode-notebook-cell:/c%3A/Users/coolg/OneDrive/Desktop/programming%20with%20python/a2.ipynb#Y135sZmlsZQ%3D%3D?line=44'>45</a>\u001b[0m choice \u001b[39m=\u001b[39m\u001b[39mint\u001b[39m(\u001b[39minput\u001b[39m(\u001b[39m\"\u001b[39m\u001b[39mEnter your choice :\u001b[39m\u001b[39m\"\u001b[39m))\n\u001b[0;32m     <a href='vscode-notebook-cell:/c%3A/Users/coolg/OneDrive/Desktop/programming%20with%20python/a2.ipynb#Y135sZmlsZQ%3D%3D?line=46'>47</a>\u001b[0m \u001b[39mif\u001b[39;00m choice \u001b[39m==\u001b[39m \u001b[39m1\u001b[39m:\n\u001b[1;32m---> <a href='vscode-notebook-cell:/c%3A/Users/coolg/OneDrive/Desktop/programming%20with%20python/a2.ipynb#Y135sZmlsZQ%3D%3D?line=47'>48</a>\u001b[0m     userinp \u001b[39m=\u001b[39m \u001b[39mint\u001b[39;49m(\u001b[39minput\u001b[39;49m(\u001b[39m\"\u001b[39;49m\u001b[39menter a name \u001b[39;49m\u001b[39m\"\u001b[39;49m))\n\u001b[0;32m     <a href='vscode-notebook-cell:/c%3A/Users/coolg/OneDrive/Desktop/programming%20with%20python/a2.ipynb#Y135sZmlsZQ%3D%3D?line=48'>49</a>\u001b[0m     retVal \u001b[39m=\u001b[39mstoreName(userinp)\n\u001b[0;32m     <a href='vscode-notebook-cell:/c%3A/Users/coolg/OneDrive/Desktop/programming%20with%20python/a2.ipynb#Y135sZmlsZQ%3D%3D?line=49'>50</a>\u001b[0m     \u001b[39mif\u001b[39;00m retVal \u001b[39m==\u001b[39m \u001b[39mTrue\u001b[39;00m:\n",
      "\u001b[1;31mValueError\u001b[0m: invalid literal for int() with base 10: 'ansel'"
     ]
    }
   ],
   "source": [
    "\n",
    "listNames =[] #emply list to store the names \n",
    "\n",
    "# store a name to list \n",
    "\n",
    "def storeName(name):\n",
    "    name = name.strip().title()\n",
    "    if name in listNames:\n",
    "        return False\n",
    "    else:\n",
    "        listNames.append(name)\n",
    "        return True\n",
    "\n",
    "\n",
    "# list all names\n",
    "\n",
    "def printNames():\n",
    "    print(\"-\"*30)\n",
    "    for name in listNames:\n",
    "        print(name)\n",
    "    print(\"-\"*30)  \n",
    "\n",
    "\n",
    "# function to search for a name   \n",
    "def searchName(name):\n",
    "    name = name.strip().title()\n",
    "    flag = False\n",
    "    for item in listNames:\n",
    "        if name == item:\n",
    "            flag = True\n",
    "            break   \n",
    "    if flag == True: \n",
    "        print(\"name exist in the list\")\n",
    "    else:\n",
    "        print(\"name does not Exist\") \n",
    "\n",
    "while  True:\n",
    "\n",
    "    print(\"Menu options\")\n",
    "    print(\"*\"*30)\n",
    "    print(\"1, Enter a Name\")\n",
    "    print(\"2,search a Name\")\n",
    "    print(\"3,list all Name\")\n",
    "    print(\"4,Exit\")\n",
    "\n",
    "    choice =int(input(\"Enter your choice :\"))\n",
    "  \n",
    "    if choice == 1:\n",
    "        userinp = int(input(\"enter a name \"))\n",
    "        retVal =storeName(userinp)\n",
    "        if retVal == True:\n",
    "            print(\"name added successfully\")\n",
    "        else:\n",
    "            print(\"name exists in the list\")\n",
    "\n",
    "    elif choice == 2:\n",
    "        userinp = input(\"Enter the name to be searched\")\n",
    "        searchName(userinp)\n",
    "    elif choice == 3:\n",
    "        printNames()\n",
    "    elif choice == 4:\n",
    "        exit()\n",
    "    else:\n",
    "        print(\"invalid option,please choose correct one!\")                  \n",
    "\n",
    "\n"
   ]
  },
  {
   "cell_type": "code",
   "execution_count": null,
   "metadata": {},
   "outputs": [],
   "source": []
  }
 ],
 "metadata": {
  "kernelspec": {
   "display_name": "Python 3",
   "language": "python",
   "name": "python3"
  },
  "language_info": {
   "codemirror_mode": {
    "name": "ipython",
    "version": 3
   },
   "file_extension": ".py",
   "mimetype": "text/x-python",
   "name": "python",
   "nbconvert_exporter": "python",
   "pygments_lexer": "ipython3",
   "version": "3.9.2"
  },
  "orig_nbformat": 4
 },
 "nbformat": 4,
 "nbformat_minor": 2
}
