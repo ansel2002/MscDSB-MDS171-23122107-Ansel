{
 "cells": [
  {
   "cell_type": "code",
   "execution_count": 7,
   "metadata": {},
   "outputs": [
    {
     "name": "stdout",
     "output_type": "stream",
     "text": [
      "5 5 5 5 \n"
     ]
    }
   ],
   "source": [
    "# WRITE A PYTHON PROGRAM WITH THE FOLLowing FUNCTION\n",
    "# THERE WILL BE A FUNCTION NAME CREATE DATASET WHCIH WILL TAKE IN A DICT,\n",
    "# FILENAME,AND NO. OF ROWS AS ARRUGMENTS. THE DICT IS HAvING THE FOLL STRUCTURE\n",
    "# \"COL_NAME\" :[DOMAIN OF VALUES]\n",
    "# YOUR FUNCTION WILL SELECT RANDOM VALUES FOR EACH OF THE DOMAIN AND CREATE \n",
    "# A ROW FOR YOU . THE NO OF ROWS THAT HAVE TO BE CREATED IS THE PARAMETER. SAVE\n",
    "# THE FILE WITH THE REQUIRED NUMBER OF ROWS .LOAD THIS DATASET USING PANDAS \n",
    "# AND DISPLAY BASIC DETAILS\n",
    "\n",
    "\n",
    "\n",
    "\n",
    "\n",
    "def create_dataset():\n",
    "\n",
    "    dict={\n",
    "\n",
    "        \"item\": ['apple','orange','banana'],\n",
    "        \"price\":[250,892,841],\n",
    "        \"quantity\":[4,7,4]\n",
    "\n",
    "\n",
    "    }\n",
    "\n",
    "\n",
    "f = open(\"myfile.csv\", \"r\")\n",
    "print(f.read())"
   ]
  },
  {
   "cell_type": "code",
   "execution_count": null,
   "metadata": {},
   "outputs": [],
   "source": []
  }
 ],
 "metadata": {
  "kernelspec": {
   "display_name": "Python 3",
   "language": "python",
   "name": "python3"
  },
  "language_info": {
   "codemirror_mode": {
    "name": "ipython",
    "version": 3
   },
   "file_extension": ".py",
   "mimetype": "text/x-python",
   "name": "python",
   "nbconvert_exporter": "python",
   "pygments_lexer": "ipython3",
   "version": "3.9.2"
  }
 },
 "nbformat": 4,
 "nbformat_minor": 2
}
