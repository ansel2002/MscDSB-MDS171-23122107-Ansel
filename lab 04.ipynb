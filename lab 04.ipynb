{
 "cells": [
  {
   "cell_type": "code",
   "execution_count": 1,
   "metadata": {},
   "outputs": [],
   "source": [
    "def GSMS(name,item,q2):\n",
    "    filename =  name+\".txt\"\n",
    "    with open(\"filename.text\",\"a+\") as file:\n",
    "        file.write(\"name\\t:\\t\" + name)\n",
    "        file.write(\"\\nitem\\t:\\t\" + item)\n",
    "        file.write(\"\\nquantity\\t:\\t\" + q2)\n",
    "user_name = input(\"enter your name\")\n",
    "user_email=input('Enter your item name')\n",
    "user_number=input('Enter quantity')\n",
    "GSMS(user_name , user_email  , user_number )\n",
    "\n",
    "\n"
   ]
  },
  {
   "cell_type": "code",
   "execution_count": null,
   "metadata": {},
   "outputs": [],
   "source": []
  }
 ],
 "metadata": {
  "kernelspec": {
   "display_name": "Python 3",
   "language": "python",
   "name": "python3"
  },
  "language_info": {
   "codemirror_mode": {
    "name": "ipython",
    "version": 3
   },
   "file_extension": ".py",
   "mimetype": "text/x-python",
   "name": "python",
   "nbconvert_exporter": "python",
   "pygments_lexer": "ipython3",
   "version": "3.9.2"
  },
  "orig_nbformat": 4
 },
 "nbformat": 4,
 "nbformat_minor": 2
}
