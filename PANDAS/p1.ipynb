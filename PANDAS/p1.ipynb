import matplotlib.pyplot as plt
import numpy as np
import pandas as pd
import seaborn as sns
y = pd.read_csv('IRIS.csv')

y.head()
