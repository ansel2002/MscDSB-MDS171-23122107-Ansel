{
 "cells": [
  {
   "cell_type": "code",
   "execution_count": 7,
   "metadata": {},
   "outputs": [
    {
     "name": "stdout",
     "output_type": "stream",
     "text": [
      "     SEPAL1  SEPAL2  SEPAL3  SEPAL4          SEPAL5\n",
      "0       5.1     3.5     1.4     0.2     Iris-setosa\n",
      "1       4.9     3.0     1.4     0.2     Iris-setosa\n",
      "2       4.7     3.2     1.3     0.2     Iris-setosa\n",
      "3       4.6     3.1     1.5     0.2     Iris-setosa\n",
      "4       5.0     3.6     1.4     0.2     Iris-setosa\n",
      "..      ...     ...     ...     ...             ...\n",
      "145     6.7     3.0     5.2     2.3  Iris-virginica\n",
      "146     6.3     2.5     5.0     1.9  Iris-virginica\n",
      "147     6.5     3.0     5.2     2.0  Iris-virginica\n",
      "148     6.2     3.4     5.4     2.3  Iris-virginica\n",
      "149     5.9     3.0     5.1     1.8  Iris-virginica\n",
      "\n",
      "[150 rows x 5 columns]\n"
     ]
    }
   ],
   "source": [
    "# # 1.load a csv, set new col names\n",
    "# # 2.rename column names(1 column ,multiple column)\n",
    "# # 3.load a dataset, set one column as index column\n",
    "# # 4.split your data into multiple files with respect to rows and columns \n",
    "#   load the different files and merge them to final files\n",
    "\n",
    "#1.....\n",
    "\n",
    "import pandas as pd\n",
    "import numpy as np\n",
    "import matplotlib.pyplot as plt\n",
    "\n",
    "\n",
    "ad = pd.read_csv('IRIS.csv', names=['SEPAL1', 'SEPAL2', 'SEPAL3', 'SEPAL4','SEPAL5'], header=None)\n",
    " \n",
    "print(ad)"
   ]
  },
  {
   "cell_type": "code",
   "execution_count": 9,
   "metadata": {},
   "outputs": [
    {
     "name": "stdout",
     "output_type": "stream",
     "text": [
      "     serial_no.  sepal_length  sepal_width  petal_length     petal_width\n",
      "0           5.1           3.5          1.4           0.2     Iris-setosa\n",
      "1           4.9           3.0          1.4           0.2     Iris-setosa\n",
      "2           4.7           3.2          1.3           0.2     Iris-setosa\n",
      "3           4.6           3.1          1.5           0.2     Iris-setosa\n",
      "4           5.0           3.6          1.4           0.2     Iris-setosa\n",
      "..          ...           ...          ...           ...             ...\n",
      "145         6.7           3.0          5.2           2.3  Iris-virginica\n",
      "146         6.3           2.5          5.0           1.9  Iris-virginica\n",
      "147         6.5           3.0          5.2           2.0  Iris-virginica\n",
      "148         6.2           3.4          5.4           2.3  Iris-virginica\n",
      "149         5.9           3.0          5.1           1.8  Iris-virginica\n",
      "\n",
      "[150 rows x 5 columns]\n"
     ]
    }
   ],
   "source": [
    "ad.columns = ['serial_no.','sepal_length','sepal_width','petal_length','petal_width']\n",
    "print(ad)"
   ]
  },
  {
   "cell_type": "code",
   "execution_count": null,
   "metadata": {},
   "outputs": [],
   "source": []
  }
 ],
 "metadata": {
  "kernelspec": {
   "display_name": "Python 3",
   "language": "python",
   "name": "python3"
  },
  "language_info": {
   "codemirror_mode": {
    "name": "ipython",
    "version": 3
   },
   "file_extension": ".py",
   "mimetype": "text/x-python",
   "name": "python",
   "nbconvert_exporter": "python",
   "pygments_lexer": "ipython3",
   "version": "3.9.2"
  }
 },
 "nbformat": 4,
 "nbformat_minor": 2
}
